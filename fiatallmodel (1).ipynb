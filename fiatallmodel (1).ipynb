{
 "cells": [
  {
   "cell_type": "code",
   "execution_count": 1,
   "metadata": {},
   "outputs": [],
   "source": [
    "import pandas as pd\n",
    "import pickle\n",
    "import warnings\n",
    "warnings.filterwarnings(\"ignore\")"
   ]
  },
  {
   "cell_type": "code",
   "execution_count": 2,
   "metadata": {},
   "outputs": [],
   "source": [
    "#pip install pandas"
   ]
  },
  {
   "cell_type": "code",
   "execution_count": 7,
   "metadata": {},
   "outputs": [],
   "source": [
    "data=pd.read_csv(r\"fiat500.csv\")"
   ]
  },
  {
   "cell_type": "code",
   "execution_count": 3,
   "metadata": {},
   "outputs": [
    {
     "name": "stdout",
     "output_type": "stream",
     "text": [
      "manu chetta\n"
     ]
    }
   ],
   "source": [
    "print(\"manu chetta\")"
   ]
  },
  {
   "cell_type": "code",
   "execution_count": 8,
   "metadata": {},
   "outputs": [
    {
     "data": {
      "text/plain": [
       "(1538, 9)"
      ]
     },
     "execution_count": 8,
     "metadata": {},
     "output_type": "execute_result"
    }
   ],
   "source": [
    "data.shape"
   ]
  },
  {
   "cell_type": "code",
   "execution_count": 5,
   "metadata": {},
   "outputs": [
    {
     "data": {
      "text/html": [
       "<div>\n",
       "<style scoped>\n",
       "    .dataframe tbody tr th:only-of-type {\n",
       "        vertical-align: middle;\n",
       "    }\n",
       "\n",
       "    .dataframe tbody tr th {\n",
       "        vertical-align: top;\n",
       "    }\n",
       "\n",
       "    .dataframe thead th {\n",
       "        text-align: right;\n",
       "    }\n",
       "</style>\n",
       "<table border=\"1\" class=\"dataframe\">\n",
       "  <thead>\n",
       "    <tr style=\"text-align: right;\">\n",
       "      <th></th>\n",
       "      <th>ID</th>\n",
       "      <th>model</th>\n",
       "      <th>engine_power</th>\n",
       "      <th>age_in_days</th>\n",
       "      <th>km</th>\n",
       "      <th>previous_owners</th>\n",
       "      <th>lat</th>\n",
       "      <th>lon</th>\n",
       "      <th>price</th>\n",
       "    </tr>\n",
       "  </thead>\n",
       "  <tbody>\n",
       "    <tr>\n",
       "      <th>1528</th>\n",
       "      <td>1529</td>\n",
       "      <td>lounge</td>\n",
       "      <td>51</td>\n",
       "      <td>2861</td>\n",
       "      <td>126000</td>\n",
       "      <td>1</td>\n",
       "      <td>43.841980</td>\n",
       "      <td>10.51531</td>\n",
       "      <td>5500</td>\n",
       "    </tr>\n",
       "    <tr>\n",
       "      <th>1529</th>\n",
       "      <td>1530</td>\n",
       "      <td>lounge</td>\n",
       "      <td>51</td>\n",
       "      <td>731</td>\n",
       "      <td>22551</td>\n",
       "      <td>1</td>\n",
       "      <td>38.122070</td>\n",
       "      <td>13.36112</td>\n",
       "      <td>9900</td>\n",
       "    </tr>\n",
       "    <tr>\n",
       "      <th>1530</th>\n",
       "      <td>1531</td>\n",
       "      <td>lounge</td>\n",
       "      <td>51</td>\n",
       "      <td>670</td>\n",
       "      <td>29000</td>\n",
       "      <td>1</td>\n",
       "      <td>45.764648</td>\n",
       "      <td>8.99450</td>\n",
       "      <td>10800</td>\n",
       "    </tr>\n",
       "    <tr>\n",
       "      <th>1531</th>\n",
       "      <td>1532</td>\n",
       "      <td>sport</td>\n",
       "      <td>73</td>\n",
       "      <td>4505</td>\n",
       "      <td>127000</td>\n",
       "      <td>1</td>\n",
       "      <td>45.528511</td>\n",
       "      <td>9.59323</td>\n",
       "      <td>4750</td>\n",
       "    </tr>\n",
       "    <tr>\n",
       "      <th>1532</th>\n",
       "      <td>1533</td>\n",
       "      <td>pop</td>\n",
       "      <td>51</td>\n",
       "      <td>1917</td>\n",
       "      <td>52008</td>\n",
       "      <td>1</td>\n",
       "      <td>45.548000</td>\n",
       "      <td>11.54947</td>\n",
       "      <td>9900</td>\n",
       "    </tr>\n",
       "    <tr>\n",
       "      <th>1533</th>\n",
       "      <td>1534</td>\n",
       "      <td>sport</td>\n",
       "      <td>51</td>\n",
       "      <td>3712</td>\n",
       "      <td>115280</td>\n",
       "      <td>1</td>\n",
       "      <td>45.069679</td>\n",
       "      <td>7.70492</td>\n",
       "      <td>5200</td>\n",
       "    </tr>\n",
       "    <tr>\n",
       "      <th>1534</th>\n",
       "      <td>1535</td>\n",
       "      <td>lounge</td>\n",
       "      <td>74</td>\n",
       "      <td>3835</td>\n",
       "      <td>112000</td>\n",
       "      <td>1</td>\n",
       "      <td>45.845692</td>\n",
       "      <td>8.66687</td>\n",
       "      <td>4600</td>\n",
       "    </tr>\n",
       "    <tr>\n",
       "      <th>1535</th>\n",
       "      <td>1536</td>\n",
       "      <td>pop</td>\n",
       "      <td>51</td>\n",
       "      <td>2223</td>\n",
       "      <td>60457</td>\n",
       "      <td>1</td>\n",
       "      <td>45.481541</td>\n",
       "      <td>9.41348</td>\n",
       "      <td>7500</td>\n",
       "    </tr>\n",
       "    <tr>\n",
       "      <th>1536</th>\n",
       "      <td>1537</td>\n",
       "      <td>lounge</td>\n",
       "      <td>51</td>\n",
       "      <td>2557</td>\n",
       "      <td>80750</td>\n",
       "      <td>1</td>\n",
       "      <td>45.000702</td>\n",
       "      <td>7.68227</td>\n",
       "      <td>5990</td>\n",
       "    </tr>\n",
       "    <tr>\n",
       "      <th>1537</th>\n",
       "      <td>1538</td>\n",
       "      <td>pop</td>\n",
       "      <td>51</td>\n",
       "      <td>1766</td>\n",
       "      <td>54276</td>\n",
       "      <td>1</td>\n",
       "      <td>40.323410</td>\n",
       "      <td>17.56827</td>\n",
       "      <td>7900</td>\n",
       "    </tr>\n",
       "  </tbody>\n",
       "</table>\n",
       "</div>"
      ],
      "text/plain": [
       "        ID   model  engine_power  age_in_days      km  previous_owners  \\\n",
       "1528  1529  lounge            51         2861  126000                1   \n",
       "1529  1530  lounge            51          731   22551                1   \n",
       "1530  1531  lounge            51          670   29000                1   \n",
       "1531  1532   sport            73         4505  127000                1   \n",
       "1532  1533     pop            51         1917   52008                1   \n",
       "1533  1534   sport            51         3712  115280                1   \n",
       "1534  1535  lounge            74         3835  112000                1   \n",
       "1535  1536     pop            51         2223   60457                1   \n",
       "1536  1537  lounge            51         2557   80750                1   \n",
       "1537  1538     pop            51         1766   54276                1   \n",
       "\n",
       "            lat       lon  price  \n",
       "1528  43.841980  10.51531   5500  \n",
       "1529  38.122070  13.36112   9900  \n",
       "1530  45.764648   8.99450  10800  \n",
       "1531  45.528511   9.59323   4750  \n",
       "1532  45.548000  11.54947   9900  \n",
       "1533  45.069679   7.70492   5200  \n",
       "1534  45.845692   8.66687   4600  \n",
       "1535  45.481541   9.41348   7500  \n",
       "1536  45.000702   7.68227   5990  \n",
       "1537  40.323410  17.56827   7900  "
      ]
     },
     "execution_count": 5,
     "metadata": {},
     "output_type": "execute_result"
    }
   ],
   "source": [
    "data.tail(10)"
   ]
  },
  {
   "cell_type": "code",
   "execution_count": 6,
   "metadata": {},
   "outputs": [
    {
     "data": {
      "text/html": [
       "<div>\n",
       "<style scoped>\n",
       "    .dataframe tbody tr th:only-of-type {\n",
       "        vertical-align: middle;\n",
       "    }\n",
       "\n",
       "    .dataframe tbody tr th {\n",
       "        vertical-align: top;\n",
       "    }\n",
       "\n",
       "    .dataframe thead th {\n",
       "        text-align: right;\n",
       "    }\n",
       "</style>\n",
       "<table border=\"1\" class=\"dataframe\">\n",
       "  <thead>\n",
       "    <tr style=\"text-align: right;\">\n",
       "      <th></th>\n",
       "      <th>ID</th>\n",
       "      <th>engine_power</th>\n",
       "      <th>age_in_days</th>\n",
       "      <th>km</th>\n",
       "      <th>previous_owners</th>\n",
       "      <th>lat</th>\n",
       "      <th>lon</th>\n",
       "      <th>price</th>\n",
       "    </tr>\n",
       "  </thead>\n",
       "  <tbody>\n",
       "    <tr>\n",
       "      <th>count</th>\n",
       "      <td>1538.000000</td>\n",
       "      <td>1538.000000</td>\n",
       "      <td>1538.000000</td>\n",
       "      <td>1538.000000</td>\n",
       "      <td>1538.000000</td>\n",
       "      <td>1538.000000</td>\n",
       "      <td>1538.000000</td>\n",
       "      <td>1538.000000</td>\n",
       "    </tr>\n",
       "    <tr>\n",
       "      <th>mean</th>\n",
       "      <td>769.500000</td>\n",
       "      <td>51.904421</td>\n",
       "      <td>1650.980494</td>\n",
       "      <td>53396.011704</td>\n",
       "      <td>1.123537</td>\n",
       "      <td>43.541361</td>\n",
       "      <td>11.563428</td>\n",
       "      <td>8576.003901</td>\n",
       "    </tr>\n",
       "    <tr>\n",
       "      <th>std</th>\n",
       "      <td>444.126671</td>\n",
       "      <td>3.988023</td>\n",
       "      <td>1289.522278</td>\n",
       "      <td>40046.830723</td>\n",
       "      <td>0.416423</td>\n",
       "      <td>2.133518</td>\n",
       "      <td>2.328190</td>\n",
       "      <td>1939.958641</td>\n",
       "    </tr>\n",
       "    <tr>\n",
       "      <th>min</th>\n",
       "      <td>1.000000</td>\n",
       "      <td>51.000000</td>\n",
       "      <td>366.000000</td>\n",
       "      <td>1232.000000</td>\n",
       "      <td>1.000000</td>\n",
       "      <td>36.855839</td>\n",
       "      <td>7.245400</td>\n",
       "      <td>2500.000000</td>\n",
       "    </tr>\n",
       "    <tr>\n",
       "      <th>25%</th>\n",
       "      <td>385.250000</td>\n",
       "      <td>51.000000</td>\n",
       "      <td>670.000000</td>\n",
       "      <td>20006.250000</td>\n",
       "      <td>1.000000</td>\n",
       "      <td>41.802990</td>\n",
       "      <td>9.505090</td>\n",
       "      <td>7122.500000</td>\n",
       "    </tr>\n",
       "    <tr>\n",
       "      <th>50%</th>\n",
       "      <td>769.500000</td>\n",
       "      <td>51.000000</td>\n",
       "      <td>1035.000000</td>\n",
       "      <td>39031.000000</td>\n",
       "      <td>1.000000</td>\n",
       "      <td>44.394096</td>\n",
       "      <td>11.869260</td>\n",
       "      <td>9000.000000</td>\n",
       "    </tr>\n",
       "    <tr>\n",
       "      <th>75%</th>\n",
       "      <td>1153.750000</td>\n",
       "      <td>51.000000</td>\n",
       "      <td>2616.000000</td>\n",
       "      <td>79667.750000</td>\n",
       "      <td>1.000000</td>\n",
       "      <td>45.467960</td>\n",
       "      <td>12.769040</td>\n",
       "      <td>10000.000000</td>\n",
       "    </tr>\n",
       "    <tr>\n",
       "      <th>max</th>\n",
       "      <td>1538.000000</td>\n",
       "      <td>77.000000</td>\n",
       "      <td>4658.000000</td>\n",
       "      <td>235000.000000</td>\n",
       "      <td>4.000000</td>\n",
       "      <td>46.795612</td>\n",
       "      <td>18.365520</td>\n",
       "      <td>11100.000000</td>\n",
       "    </tr>\n",
       "  </tbody>\n",
       "</table>\n",
       "</div>"
      ],
      "text/plain": [
       "                ID  engine_power  age_in_days             km  previous_owners  \\\n",
       "count  1538.000000   1538.000000  1538.000000    1538.000000      1538.000000   \n",
       "mean    769.500000     51.904421  1650.980494   53396.011704         1.123537   \n",
       "std     444.126671      3.988023  1289.522278   40046.830723         0.416423   \n",
       "min       1.000000     51.000000   366.000000    1232.000000         1.000000   \n",
       "25%     385.250000     51.000000   670.000000   20006.250000         1.000000   \n",
       "50%     769.500000     51.000000  1035.000000   39031.000000         1.000000   \n",
       "75%    1153.750000     51.000000  2616.000000   79667.750000         1.000000   \n",
       "max    1538.000000     77.000000  4658.000000  235000.000000         4.000000   \n",
       "\n",
       "               lat          lon         price  \n",
       "count  1538.000000  1538.000000   1538.000000  \n",
       "mean     43.541361    11.563428   8576.003901  \n",
       "std       2.133518     2.328190   1939.958641  \n",
       "min      36.855839     7.245400   2500.000000  \n",
       "25%      41.802990     9.505090   7122.500000  \n",
       "50%      44.394096    11.869260   9000.000000  \n",
       "75%      45.467960    12.769040  10000.000000  \n",
       "max      46.795612    18.365520  11100.000000  "
      ]
     },
     "execution_count": 6,
     "metadata": {},
     "output_type": "execute_result"
    }
   ],
   "source": [
    "data.describe()"
   ]
  },
  {
   "cell_type": "code",
   "execution_count": 7,
   "metadata": {},
   "outputs": [
    {
     "data": {
      "text/plain": [
       "['ID',\n",
       " 'model',\n",
       " 'engine_power',\n",
       " 'age_in_days',\n",
       " 'km',\n",
       " 'previous_owners',\n",
       " 'lat',\n",
       " 'lon',\n",
       " 'price']"
      ]
     },
     "execution_count": 7,
     "metadata": {},
     "output_type": "execute_result"
    }
   ],
   "source": [
    "list(data)"
   ]
  },
  {
   "cell_type": "code",
   "execution_count": 8,
   "metadata": {},
   "outputs": [
    {
     "data": {
      "text/html": [
       "<div>\n",
       "<style scoped>\n",
       "    .dataframe tbody tr th:only-of-type {\n",
       "        vertical-align: middle;\n",
       "    }\n",
       "\n",
       "    .dataframe tbody tr th {\n",
       "        vertical-align: top;\n",
       "    }\n",
       "\n",
       "    .dataframe thead th {\n",
       "        text-align: right;\n",
       "    }\n",
       "</style>\n",
       "<table border=\"1\" class=\"dataframe\">\n",
       "  <thead>\n",
       "    <tr style=\"text-align: right;\">\n",
       "      <th></th>\n",
       "      <th>ID</th>\n",
       "      <th>model</th>\n",
       "      <th>engine_power</th>\n",
       "      <th>age_in_days</th>\n",
       "      <th>km</th>\n",
       "      <th>previous_owners</th>\n",
       "      <th>lat</th>\n",
       "      <th>lon</th>\n",
       "      <th>price</th>\n",
       "    </tr>\n",
       "  </thead>\n",
       "  <tbody>\n",
       "    <tr>\n",
       "      <th>1528</th>\n",
       "      <td>1529</td>\n",
       "      <td>lounge</td>\n",
       "      <td>51</td>\n",
       "      <td>2861</td>\n",
       "      <td>126000</td>\n",
       "      <td>1</td>\n",
       "      <td>43.841980</td>\n",
       "      <td>10.51531</td>\n",
       "      <td>5500</td>\n",
       "    </tr>\n",
       "    <tr>\n",
       "      <th>1529</th>\n",
       "      <td>1530</td>\n",
       "      <td>lounge</td>\n",
       "      <td>51</td>\n",
       "      <td>731</td>\n",
       "      <td>22551</td>\n",
       "      <td>1</td>\n",
       "      <td>38.122070</td>\n",
       "      <td>13.36112</td>\n",
       "      <td>9900</td>\n",
       "    </tr>\n",
       "    <tr>\n",
       "      <th>1530</th>\n",
       "      <td>1531</td>\n",
       "      <td>lounge</td>\n",
       "      <td>51</td>\n",
       "      <td>670</td>\n",
       "      <td>29000</td>\n",
       "      <td>1</td>\n",
       "      <td>45.764648</td>\n",
       "      <td>8.99450</td>\n",
       "      <td>10800</td>\n",
       "    </tr>\n",
       "    <tr>\n",
       "      <th>1531</th>\n",
       "      <td>1532</td>\n",
       "      <td>sport</td>\n",
       "      <td>73</td>\n",
       "      <td>4505</td>\n",
       "      <td>127000</td>\n",
       "      <td>1</td>\n",
       "      <td>45.528511</td>\n",
       "      <td>9.59323</td>\n",
       "      <td>4750</td>\n",
       "    </tr>\n",
       "    <tr>\n",
       "      <th>1532</th>\n",
       "      <td>1533</td>\n",
       "      <td>pop</td>\n",
       "      <td>51</td>\n",
       "      <td>1917</td>\n",
       "      <td>52008</td>\n",
       "      <td>1</td>\n",
       "      <td>45.548000</td>\n",
       "      <td>11.54947</td>\n",
       "      <td>9900</td>\n",
       "    </tr>\n",
       "    <tr>\n",
       "      <th>1533</th>\n",
       "      <td>1534</td>\n",
       "      <td>sport</td>\n",
       "      <td>51</td>\n",
       "      <td>3712</td>\n",
       "      <td>115280</td>\n",
       "      <td>1</td>\n",
       "      <td>45.069679</td>\n",
       "      <td>7.70492</td>\n",
       "      <td>5200</td>\n",
       "    </tr>\n",
       "    <tr>\n",
       "      <th>1534</th>\n",
       "      <td>1535</td>\n",
       "      <td>lounge</td>\n",
       "      <td>74</td>\n",
       "      <td>3835</td>\n",
       "      <td>112000</td>\n",
       "      <td>1</td>\n",
       "      <td>45.845692</td>\n",
       "      <td>8.66687</td>\n",
       "      <td>4600</td>\n",
       "    </tr>\n",
       "    <tr>\n",
       "      <th>1535</th>\n",
       "      <td>1536</td>\n",
       "      <td>pop</td>\n",
       "      <td>51</td>\n",
       "      <td>2223</td>\n",
       "      <td>60457</td>\n",
       "      <td>1</td>\n",
       "      <td>45.481541</td>\n",
       "      <td>9.41348</td>\n",
       "      <td>7500</td>\n",
       "    </tr>\n",
       "    <tr>\n",
       "      <th>1536</th>\n",
       "      <td>1537</td>\n",
       "      <td>lounge</td>\n",
       "      <td>51</td>\n",
       "      <td>2557</td>\n",
       "      <td>80750</td>\n",
       "      <td>1</td>\n",
       "      <td>45.000702</td>\n",
       "      <td>7.68227</td>\n",
       "      <td>5990</td>\n",
       "    </tr>\n",
       "    <tr>\n",
       "      <th>1537</th>\n",
       "      <td>1538</td>\n",
       "      <td>pop</td>\n",
       "      <td>51</td>\n",
       "      <td>1766</td>\n",
       "      <td>54276</td>\n",
       "      <td>1</td>\n",
       "      <td>40.323410</td>\n",
       "      <td>17.56827</td>\n",
       "      <td>7900</td>\n",
       "    </tr>\n",
       "  </tbody>\n",
       "</table>\n",
       "</div>"
      ],
      "text/plain": [
       "        ID   model  engine_power  age_in_days      km  previous_owners  \\\n",
       "1528  1529  lounge            51         2861  126000                1   \n",
       "1529  1530  lounge            51          731   22551                1   \n",
       "1530  1531  lounge            51          670   29000                1   \n",
       "1531  1532   sport            73         4505  127000                1   \n",
       "1532  1533     pop            51         1917   52008                1   \n",
       "1533  1534   sport            51         3712  115280                1   \n",
       "1534  1535  lounge            74         3835  112000                1   \n",
       "1535  1536     pop            51         2223   60457                1   \n",
       "1536  1537  lounge            51         2557   80750                1   \n",
       "1537  1538     pop            51         1766   54276                1   \n",
       "\n",
       "            lat       lon  price  \n",
       "1528  43.841980  10.51531   5500  \n",
       "1529  38.122070  13.36112   9900  \n",
       "1530  45.764648   8.99450  10800  \n",
       "1531  45.528511   9.59323   4750  \n",
       "1532  45.548000  11.54947   9900  \n",
       "1533  45.069679   7.70492   5200  \n",
       "1534  45.845692   8.66687   4600  \n",
       "1535  45.481541   9.41348   7500  \n",
       "1536  45.000702   7.68227   5990  \n",
       "1537  40.323410  17.56827   7900  "
      ]
     },
     "execution_count": 8,
     "metadata": {},
     "output_type": "execute_result"
    }
   ],
   "source": [
    "data.tail(10)"
   ]
  },
  {
   "cell_type": "code",
   "execution_count": 9,
   "metadata": {},
   "outputs": [
    {
     "data": {
      "text/plain": [
       "array(['lounge', 'pop', 'sport'], dtype=object)"
      ]
     },
     "execution_count": 9,
     "metadata": {},
     "output_type": "execute_result"
    }
   ],
   "source": [
    "data[\"model\"].unique()"
   ]
  },
  {
   "cell_type": "code",
   "execution_count": null,
   "metadata": {},
   "outputs": [],
   "source": []
  },
  {
   "cell_type": "code",
   "execution_count": 10,
   "metadata": {},
   "outputs": [
    {
     "name": "stdout",
     "output_type": "stream",
     "text": [
      "<class 'pandas.core.frame.DataFrame'>\n",
      "RangeIndex: 1538 entries, 0 to 1537\n",
      "Data columns (total 9 columns):\n",
      " #   Column           Non-Null Count  Dtype  \n",
      "---  ------           --------------  -----  \n",
      " 0   ID               1538 non-null   int64  \n",
      " 1   model            1538 non-null   object \n",
      " 2   engine_power     1538 non-null   int64  \n",
      " 3   age_in_days      1538 non-null   int64  \n",
      " 4   km               1538 non-null   int64  \n",
      " 5   previous_owners  1538 non-null   int64  \n",
      " 6   lat              1538 non-null   float64\n",
      " 7   lon              1538 non-null   float64\n",
      " 8   price            1538 non-null   int64  \n",
      "dtypes: float64(2), int64(6), object(1)\n",
      "memory usage: 108.3+ KB\n"
     ]
    }
   ],
   "source": [
    "data.info()"
   ]
  },
  {
   "cell_type": "code",
   "execution_count": 9,
   "metadata": {},
   "outputs": [
    {
     "data": {
      "text/html": [
       "<div>\n",
       "<style scoped>\n",
       "    .dataframe tbody tr th:only-of-type {\n",
       "        vertical-align: middle;\n",
       "    }\n",
       "\n",
       "    .dataframe tbody tr th {\n",
       "        vertical-align: top;\n",
       "    }\n",
       "\n",
       "    .dataframe thead th {\n",
       "        text-align: right;\n",
       "    }\n",
       "</style>\n",
       "<table border=\"1\" class=\"dataframe\">\n",
       "  <thead>\n",
       "    <tr style=\"text-align: right;\">\n",
       "      <th></th>\n",
       "      <th>ID</th>\n",
       "      <th>engine_power</th>\n",
       "      <th>age_in_days</th>\n",
       "      <th>km</th>\n",
       "      <th>previous_owners</th>\n",
       "      <th>lat</th>\n",
       "      <th>lon</th>\n",
       "      <th>price</th>\n",
       "    </tr>\n",
       "    <tr>\n",
       "      <th>model</th>\n",
       "      <th></th>\n",
       "      <th></th>\n",
       "      <th></th>\n",
       "      <th></th>\n",
       "      <th></th>\n",
       "      <th></th>\n",
       "      <th></th>\n",
       "      <th></th>\n",
       "    </tr>\n",
       "  </thead>\n",
       "  <tbody>\n",
       "    <tr>\n",
       "      <th>lounge</th>\n",
       "      <td>1094</td>\n",
       "      <td>1094</td>\n",
       "      <td>1094</td>\n",
       "      <td>1094</td>\n",
       "      <td>1094</td>\n",
       "      <td>1094</td>\n",
       "      <td>1094</td>\n",
       "      <td>1094</td>\n",
       "    </tr>\n",
       "    <tr>\n",
       "      <th>pop</th>\n",
       "      <td>358</td>\n",
       "      <td>358</td>\n",
       "      <td>358</td>\n",
       "      <td>358</td>\n",
       "      <td>358</td>\n",
       "      <td>358</td>\n",
       "      <td>358</td>\n",
       "      <td>358</td>\n",
       "    </tr>\n",
       "    <tr>\n",
       "      <th>sport</th>\n",
       "      <td>86</td>\n",
       "      <td>86</td>\n",
       "      <td>86</td>\n",
       "      <td>86</td>\n",
       "      <td>86</td>\n",
       "      <td>86</td>\n",
       "      <td>86</td>\n",
       "      <td>86</td>\n",
       "    </tr>\n",
       "  </tbody>\n",
       "</table>\n",
       "</div>"
      ],
      "text/plain": [
       "          ID  engine_power  age_in_days    km  previous_owners   lat   lon  \\\n",
       "model                                                                        \n",
       "lounge  1094          1094         1094  1094             1094  1094  1094   \n",
       "pop      358           358          358   358              358   358   358   \n",
       "sport     86            86           86    86               86    86    86   \n",
       "\n",
       "        price  \n",
       "model          \n",
       "lounge   1094  \n",
       "pop       358  \n",
       "sport      86  "
      ]
     },
     "execution_count": 9,
     "metadata": {},
     "output_type": "execute_result"
    }
   ],
   "source": [
    "data.groupby(['model']).count()"
   ]
  },
  {
   "cell_type": "code",
   "execution_count": 12,
   "metadata": {},
   "outputs": [
    {
     "data": {
      "text/html": [
       "<div>\n",
       "<style scoped>\n",
       "    .dataframe tbody tr th:only-of-type {\n",
       "        vertical-align: middle;\n",
       "    }\n",
       "\n",
       "    .dataframe tbody tr th {\n",
       "        vertical-align: top;\n",
       "    }\n",
       "\n",
       "    .dataframe thead th {\n",
       "        text-align: right;\n",
       "    }\n",
       "</style>\n",
       "<table border=\"1\" class=\"dataframe\">\n",
       "  <thead>\n",
       "    <tr style=\"text-align: right;\">\n",
       "      <th></th>\n",
       "      <th>ID</th>\n",
       "      <th>model</th>\n",
       "      <th>engine_power</th>\n",
       "      <th>age_in_days</th>\n",
       "      <th>km</th>\n",
       "      <th>lat</th>\n",
       "      <th>lon</th>\n",
       "      <th>price</th>\n",
       "    </tr>\n",
       "    <tr>\n",
       "      <th>previous_owners</th>\n",
       "      <th></th>\n",
       "      <th></th>\n",
       "      <th></th>\n",
       "      <th></th>\n",
       "      <th></th>\n",
       "      <th></th>\n",
       "      <th></th>\n",
       "      <th></th>\n",
       "    </tr>\n",
       "  </thead>\n",
       "  <tbody>\n",
       "    <tr>\n",
       "      <th>1</th>\n",
       "      <td>1389</td>\n",
       "      <td>1389</td>\n",
       "      <td>1389</td>\n",
       "      <td>1389</td>\n",
       "      <td>1389</td>\n",
       "      <td>1389</td>\n",
       "      <td>1389</td>\n",
       "      <td>1389</td>\n",
       "    </tr>\n",
       "    <tr>\n",
       "      <th>2</th>\n",
       "      <td>117</td>\n",
       "      <td>117</td>\n",
       "      <td>117</td>\n",
       "      <td>117</td>\n",
       "      <td>117</td>\n",
       "      <td>117</td>\n",
       "      <td>117</td>\n",
       "      <td>117</td>\n",
       "    </tr>\n",
       "    <tr>\n",
       "      <th>3</th>\n",
       "      <td>23</td>\n",
       "      <td>23</td>\n",
       "      <td>23</td>\n",
       "      <td>23</td>\n",
       "      <td>23</td>\n",
       "      <td>23</td>\n",
       "      <td>23</td>\n",
       "      <td>23</td>\n",
       "    </tr>\n",
       "    <tr>\n",
       "      <th>4</th>\n",
       "      <td>9</td>\n",
       "      <td>9</td>\n",
       "      <td>9</td>\n",
       "      <td>9</td>\n",
       "      <td>9</td>\n",
       "      <td>9</td>\n",
       "      <td>9</td>\n",
       "      <td>9</td>\n",
       "    </tr>\n",
       "  </tbody>\n",
       "</table>\n",
       "</div>"
      ],
      "text/plain": [
       "                   ID  model  engine_power  age_in_days    km   lat   lon  \\\n",
       "previous_owners                                                             \n",
       "1                1389   1389          1389         1389  1389  1389  1389   \n",
       "2                 117    117           117          117   117   117   117   \n",
       "3                  23     23            23           23    23    23    23   \n",
       "4                   9      9             9            9     9     9     9   \n",
       "\n",
       "                 price  \n",
       "previous_owners         \n",
       "1                 1389  \n",
       "2                  117  \n",
       "3                   23  \n",
       "4                    9  "
      ]
     },
     "execution_count": 12,
     "metadata": {},
     "output_type": "execute_result"
    }
   ],
   "source": [
    "data.groupby(['previous_owners']).count()"
   ]
  },
  {
   "cell_type": "code",
   "execution_count": 10,
   "metadata": {},
   "outputs": [
    {
     "data": {
      "text/plain": [
       "array(['lounge', 'pop', 'sport'], dtype=object)"
      ]
     },
     "execution_count": 10,
     "metadata": {},
     "output_type": "execute_result"
    }
   ],
   "source": [
    "data['model'].unique()"
   ]
  },
  {
   "cell_type": "code",
   "execution_count": 11,
   "metadata": {},
   "outputs": [
    {
     "data": {
      "text/plain": [
       "(1538, 9)"
      ]
     },
     "execution_count": 11,
     "metadata": {},
     "output_type": "execute_result"
    }
   ],
   "source": [
    "data.shape\n",
    "#df=data\n",
    "#data=df.loc[(df.model=='lounge')&(df.previous_owners==1)]"
   ]
  },
  {
   "cell_type": "code",
   "execution_count": 12,
   "metadata": {},
   "outputs": [
    {
     "data": {
      "text/html": [
       "<div>\n",
       "<style scoped>\n",
       "    .dataframe tbody tr th:only-of-type {\n",
       "        vertical-align: middle;\n",
       "    }\n",
       "\n",
       "    .dataframe tbody tr th {\n",
       "        vertical-align: top;\n",
       "    }\n",
       "\n",
       "    .dataframe thead th {\n",
       "        text-align: right;\n",
       "    }\n",
       "</style>\n",
       "<table border=\"1\" class=\"dataframe\">\n",
       "  <thead>\n",
       "    <tr style=\"text-align: right;\">\n",
       "      <th></th>\n",
       "      <th>ID</th>\n",
       "      <th>engine_power</th>\n",
       "      <th>age_in_days</th>\n",
       "      <th>km</th>\n",
       "      <th>previous_owners</th>\n",
       "      <th>lat</th>\n",
       "      <th>lon</th>\n",
       "      <th>price</th>\n",
       "    </tr>\n",
       "  </thead>\n",
       "  <tbody>\n",
       "    <tr>\n",
       "      <th>ID</th>\n",
       "      <td>1.000000</td>\n",
       "      <td>-0.034059</td>\n",
       "      <td>-0.060753</td>\n",
       "      <td>-0.006537</td>\n",
       "      <td>0.007803</td>\n",
       "      <td>-0.058207</td>\n",
       "      <td>0.058941</td>\n",
       "      <td>0.028516</td>\n",
       "    </tr>\n",
       "    <tr>\n",
       "      <th>engine_power</th>\n",
       "      <td>-0.034059</td>\n",
       "      <td>1.000000</td>\n",
       "      <td>0.319190</td>\n",
       "      <td>0.285495</td>\n",
       "      <td>-0.005030</td>\n",
       "      <td>0.005721</td>\n",
       "      <td>-0.005032</td>\n",
       "      <td>-0.277235</td>\n",
       "    </tr>\n",
       "    <tr>\n",
       "      <th>age_in_days</th>\n",
       "      <td>-0.060753</td>\n",
       "      <td>0.319190</td>\n",
       "      <td>1.000000</td>\n",
       "      <td>0.833890</td>\n",
       "      <td>0.075775</td>\n",
       "      <td>0.062982</td>\n",
       "      <td>-0.042667</td>\n",
       "      <td>-0.893328</td>\n",
       "    </tr>\n",
       "    <tr>\n",
       "      <th>km</th>\n",
       "      <td>-0.006537</td>\n",
       "      <td>0.285495</td>\n",
       "      <td>0.833890</td>\n",
       "      <td>1.000000</td>\n",
       "      <td>0.097539</td>\n",
       "      <td>0.035519</td>\n",
       "      <td>0.004839</td>\n",
       "      <td>-0.859373</td>\n",
       "    </tr>\n",
       "    <tr>\n",
       "      <th>previous_owners</th>\n",
       "      <td>0.007803</td>\n",
       "      <td>-0.005030</td>\n",
       "      <td>0.075775</td>\n",
       "      <td>0.097539</td>\n",
       "      <td>1.000000</td>\n",
       "      <td>0.001697</td>\n",
       "      <td>-0.026836</td>\n",
       "      <td>-0.076274</td>\n",
       "    </tr>\n",
       "    <tr>\n",
       "      <th>lat</th>\n",
       "      <td>-0.058207</td>\n",
       "      <td>0.005721</td>\n",
       "      <td>0.062982</td>\n",
       "      <td>0.035519</td>\n",
       "      <td>0.001697</td>\n",
       "      <td>1.000000</td>\n",
       "      <td>-0.766646</td>\n",
       "      <td>-0.011733</td>\n",
       "    </tr>\n",
       "    <tr>\n",
       "      <th>lon</th>\n",
       "      <td>0.058941</td>\n",
       "      <td>-0.005032</td>\n",
       "      <td>-0.042667</td>\n",
       "      <td>0.004839</td>\n",
       "      <td>-0.026836</td>\n",
       "      <td>-0.766646</td>\n",
       "      <td>1.000000</td>\n",
       "      <td>-0.003541</td>\n",
       "    </tr>\n",
       "    <tr>\n",
       "      <th>price</th>\n",
       "      <td>0.028516</td>\n",
       "      <td>-0.277235</td>\n",
       "      <td>-0.893328</td>\n",
       "      <td>-0.859373</td>\n",
       "      <td>-0.076274</td>\n",
       "      <td>-0.011733</td>\n",
       "      <td>-0.003541</td>\n",
       "      <td>1.000000</td>\n",
       "    </tr>\n",
       "  </tbody>\n",
       "</table>\n",
       "</div>"
      ],
      "text/plain": [
       "                       ID  engine_power  age_in_days        km  \\\n",
       "ID               1.000000     -0.034059    -0.060753 -0.006537   \n",
       "engine_power    -0.034059      1.000000     0.319190  0.285495   \n",
       "age_in_days     -0.060753      0.319190     1.000000  0.833890   \n",
       "km              -0.006537      0.285495     0.833890  1.000000   \n",
       "previous_owners  0.007803     -0.005030     0.075775  0.097539   \n",
       "lat             -0.058207      0.005721     0.062982  0.035519   \n",
       "lon              0.058941     -0.005032    -0.042667  0.004839   \n",
       "price            0.028516     -0.277235    -0.893328 -0.859373   \n",
       "\n",
       "                 previous_owners       lat       lon     price  \n",
       "ID                      0.007803 -0.058207  0.058941  0.028516  \n",
       "engine_power           -0.005030  0.005721 -0.005032 -0.277235  \n",
       "age_in_days             0.075775  0.062982 -0.042667 -0.893328  \n",
       "km                      0.097539  0.035519  0.004839 -0.859373  \n",
       "previous_owners         1.000000  0.001697 -0.026836 -0.076274  \n",
       "lat                     0.001697  1.000000 -0.766646 -0.011733  \n",
       "lon                    -0.026836 -0.766646  1.000000 -0.003541  \n",
       "price                  -0.076274 -0.011733 -0.003541  1.000000  "
      ]
     },
     "execution_count": 12,
     "metadata": {},
     "output_type": "execute_result"
    }
   ],
   "source": [
    "cor=data.corr()\n",
    "cor\n",
    "#cor is alays bw -1 and 1"
   ]
  },
  {
   "cell_type": "code",
   "execution_count": 13,
   "metadata": {
    "scrolled": true
   },
   "outputs": [
    {
     "data": {
      "text/plain": [
       "<AxesSubplot:>"
      ]
     },
     "execution_count": 13,
     "metadata": {},
     "output_type": "execute_result"
    },
    {
     "data": {
      "image/png": "[encoded data removed]",
      "text/plain": [
       "<Figure size 432x288 with 2 Axes>"
      ]
     },
     "metadata": {
      "needs_background": "light"
     },
     "output_type": "display_data"
    }
   ],
   "source": [
    "#correlation metrix \n",
    "import seaborn as sns\n",
    "sns.heatmap(cor,vmax=1,vmin=-1,annot=True,linewidths=.5,cmap='bwr')"
   ]
  },
  {
   "cell_type": "code",
   "execution_count": 15,
   "metadata": {},
   "outputs": [],
   "source": [
    "data1=data.drop(['lat','ID'],axis=1) #unwanted columns removed"
   ]
  },
  {
   "cell_type": "code",
   "execution_count": null,
   "metadata": {},
   "outputs": [],
   "source": [
    "#2-3\n",
    "data2=data1.drop('lon',axis=1)"
   ]
  },
  {
   "cell_type": "code",
   "execution_count": null,
   "metadata": {},
   "outputs": [],
   "source": [
    "data2.shape\n"
   ]
  },
  {
   "cell_type": "code",
   "execution_count": null,
   "metadata": {},
   "outputs": [],
   "source": [
    "data2.head(3)"
   ]
  },
  {
   "cell_type": "code",
   "execution_count": null,
   "metadata": {},
   "outputs": [],
   "source": [
    "data2=pd.get_dummies(data2,dtype=int)"
   ]
  },
  {
   "cell_type": "code",
   "execution_count": null,
   "metadata": {},
   "outputs": [],
   "source": [
    "#data2.groupby(['previous_owners'])\n",
    "data2.shape"
   ]
  },
  {
   "cell_type": "code",
   "execution_count": null,
   "metadata": {},
   "outputs": [],
   "source": [
    "data2.head(5)"
   ]
  },
  {
   "cell_type": "code",
   "execution_count": null,
   "metadata": {},
   "outputs": [],
   "source": [
    "data.head(5)"
   ]
  },
  {
   "cell_type": "code",
   "execution_count": 5,
   "metadata": {},
   "outputs": [
    {
     "ename": "NameError",
     "evalue": "name 'data2' is not defined",
     "output_type": "error",
     "traceback": [
      "\u001b[1;31m---------------------------------------------------------------------------\u001b[0m",
      "\u001b[1;31mNameError\u001b[0m                                 Traceback (most recent call last)",
      "\u001b[1;32m<ipython-input-5-4e313213ba86>\u001b[0m in \u001b[0;36m<module>\u001b[1;34m\u001b[0m\n\u001b[1;32m----> 1\u001b[1;33m \u001b[0my\u001b[0m\u001b[1;33m=\u001b[0m\u001b[0mdata2\u001b[0m\u001b[1;33m[\u001b[0m\u001b[1;34m'price'\u001b[0m\u001b[1;33m]\u001b[0m\u001b[1;33m\u001b[0m\u001b[1;33m\u001b[0m\u001b[0m\n\u001b[0m\u001b[0;32m      2\u001b[0m \u001b[0mX\u001b[0m\u001b[1;33m=\u001b[0m\u001b[0mdata2\u001b[0m\u001b[1;33m.\u001b[0m\u001b[0mdrop\u001b[0m\u001b[1;33m(\u001b[0m\u001b[1;34m'price'\u001b[0m\u001b[1;33m,\u001b[0m\u001b[0maxis\u001b[0m\u001b[1;33m=\u001b[0m\u001b[1;36m1\u001b[0m\u001b[1;33m)\u001b[0m\u001b[1;33m\u001b[0m\u001b[1;33m\u001b[0m\u001b[0m\n",
      "\u001b[1;31mNameError\u001b[0m: name 'data2' is not defined"
     ]
    }
   ],
   "source": [
    "y=data2['price']\n",
    "X=data2.drop('price',axis=1)\n"
   ]
  },
  {
   "cell_type": "code",
   "execution_count": null,
   "metadata": {},
   "outputs": [],
   "source": [
    "y\n"
   ]
  },
  {
   "cell_type": "code",
   "execution_count": null,
   "metadata": {},
   "outputs": [],
   "source": [
    "X \n"
   ]
  },
  {
   "cell_type": "code",
   "execution_count": null,
   "metadata": {},
   "outputs": [],
   "source": [
    "from sklearn.model_selection import train_test_split\n",
    "X_train, X_test, y_train, y_test = train_test_split(X, y, test_size=0.33,random_state=0) #0.67 data will be for training.\n",
    "#X_train having 67 %data with out price\n",
    "#X_test         33 \n",
    "#y_train        67 % dat only with price\n",
    "#y_test         33 % data only with price\n"
   ]
  },
  {
   "cell_type": "code",
   "execution_count": null,
   "metadata": {},
   "outputs": [],
   "source": [
    "X_train.head(50)"
   ]
  },
  {
   "cell_type": "code",
   "execution_count": null,
   "metadata": {},
   "outputs": [],
   "source": [
    "X_test.head(5)"
   ]
  },
  {
   "cell_type": "code",
   "execution_count": null,
   "metadata": {},
   "outputs": [],
   "source": [
    "X_train.shape"
   ]
  },
  {
   "cell_type": "code",
   "execution_count": null,
   "metadata": {},
   "outputs": [],
   "source": [
    "y_train.shape"
   ]
  },
  {
   "cell_type": "code",
   "execution_count": null,
   "metadata": {},
   "outputs": [],
   "source": [
    "from sklearn.linear_model import LinearRegression\n",
    "reg = LinearRegression() #creating object of LinearRegression\n",
    "reg.fit(X_train,y_train) #training and fitting LR object using training data"
   ]
  },
  {
   "cell_type": "code",
   "execution_count": null,
   "metadata": {},
   "outputs": [],
   "source": [
    "\n",
    "\n",
    "#X_test=[[51,2197,70000,1,1,0,0],[51,3127,100000,1,1,0,0],[51,5227,175000,1,1,0,0]]"
   ]
  },
  {
   "cell_type": "code",
   "execution_count": null,
   "metadata": {},
   "outputs": [],
   "source": [
    "#above line to actual"
   ]
  },
  {
   "cell_type": "code",
   "execution_count": null,
   "metadata": {},
   "outputs": [],
   "source": [
    "ypred=reg.predict(X_test) "
   ]
  },
  {
   "cell_type": "code",
   "execution_count": null,
   "metadata": {},
   "outputs": [],
   "source": [
    "ypred"
   ]
  },
  {
   "cell_type": "code",
   "execution_count": null,
   "metadata": {},
   "outputs": [],
   "source": [
    "# filename='pricemodeldummy1'\n",
    "# pickle.dump(reg,open(filename,'wb'))"
   ]
  },
  {
   "cell_type": "code",
   "execution_count": null,
   "metadata": {},
   "outputs": [],
   "source": [
    "\n"
   ]
  },
  {
   "cell_type": "code",
   "execution_count": null,
   "metadata": {},
   "outputs": [],
   "source": [
    "#savedmodel=pickle.load(open(filename,'rb'))\n",
    "\n",
    "#X_test=[[1,75,1062,8000,1]]\n",
    "#savedmodel.predict(X_test)"
   ]
  },
  {
   "cell_type": "code",
   "execution_count": null,
   "metadata": {},
   "outputs": [],
   "source": [
    "from sklearn.metrics import r2_score\n",
    "r2_score(y_test,ypred)"
   ]
  },
  {
   "cell_type": "code",
   "execution_count": null,
   "metadata": {},
   "outputs": [],
   "source": [
    "from sklearn.metrics import mean_absolute_percentage_error as mape\n",
    "\n",
    "mape_value = mape(y_test, ypred)\n",
    "mape_value"
   ]
  },
  {
   "cell_type": "code",
   "execution_count": null,
   "metadata": {},
   "outputs": [],
   "source": [
    "from sklearn.metrics import mean_squared_error #calculating MSE\n",
    "mean_squared_error(y_test,ypred)\n",
    "#print(t**.5)"
   ]
  },
  {
   "cell_type": "code",
   "execution_count": null,
   "metadata": {},
   "outputs": [],
   "source": []
  },
  {
   "cell_type": "code",
   "execution_count": null,
   "metadata": {},
   "outputs": [],
   "source": [
    "#Results= pd.DataFrame(columns=['Actual','Predicted'])\n",
    "#Results['Actual']=y_test\n",
    "Results= pd.DataFrame(columns=['Price','Predicted'])\n",
    "Results['Price']=y_test\n",
    "Results['Predicted']=ypred\n",
    "#Results['km']=X_test['km']\n",
    "Results=Results.reset_index()\n",
    "Results['Id']=Results.index\n",
    "Results.head(15)"
   ]
  },
  {
   "cell_type": "code",
   "execution_count": null,
   "metadata": {},
   "outputs": [],
   "source": [
    "import seaborn as sns\n",
    "import matplotlib.pyplot as plt\n",
    "sns.lineplot(x='Id',y='Price',data=Results.head(50)) #actual\n",
    "sns.lineplot(x='Id',y='Predicted',data=Results.head(50)) #predicted\n",
    "plt.plot()"
   ]
  },
  {
   "cell_type": "code",
   "execution_count": null,
   "metadata": {},
   "outputs": [],
   "source": [
    "import seaborn as sns\n",
    "import matplotlib.pyplot as plt\n",
    "\n",
    "sns.lineplot(x='Id',y='Price',data=Results.tail(50))\n",
    "sns.lineplot(x='Id',y='Predicted',data=Results.tail(50))\n",
    "plt.plot()"
   ]
  },
  {
   "cell_type": "code",
   "execution_count": null,
   "metadata": {},
   "outputs": [],
   "source": [
    "list(X_test)"
   ]
  },
  {
   "cell_type": "code",
   "execution_count": null,
   "metadata": {},
   "outputs": [],
   "source": [
    "# Saving model to disk\n",
    "pickle.dump(reg, open('model.pkl','wb'))\n",
    "\n",
    "# Loading model to compare the results\n",
    "model = pickle.load(open('model.pkl','rb'))"
   ]
  },
  {
   "cell_type": "markdown",
   "metadata": {},
   "source": [
    "# this is for prediction of a new veicle with spec"
   ]
  },
  {
   "cell_type": "code",
   "execution_count": null,
   "metadata": {},
   "outputs": [],
   "source": [
    "new=[[51,3000,65000,1,1,0,0]]"
   ]
  },
  {
   "cell_type": "code",
   "execution_count": null,
   "metadata": {},
   "outputs": [],
   "source": [
    " real=reg.predict(new)"
   ]
  },
  {
   "cell_type": "code",
   "execution_count": null,
   "metadata": {},
   "outputs": [],
   "source": [
    "real"
   ]
  },
  {
   "cell_type": "raw",
   "metadata": {},
   "source": [
    "#------------------------------------------------------------------#"
   ]
  },
  {
   "cell_type": "code",
   "execution_count": null,
   "metadata": {},
   "outputs": [],
   "source": [
    "# ridge regression"
   ]
  },
  {
   "cell_type": "code",
   "execution_count": 4,
   "metadata": {},
   "outputs": [
    {
     "ename": "ModuleNotFoundError",
     "evalue": "No module named 'sklearn.grid_search'",
     "output_type": "error",
     "traceback": [
      "\u001b[1;31m---------------------------------------------------------------------------\u001b[0m",
      "\u001b[1;31mModuleNotFoundError\u001b[0m                       Traceback (most recent call last)",
      "\u001b[1;32m<ipython-input-4-9539ae602c9a>\u001b[0m in \u001b[0;36m<module>\u001b[1;34m\u001b[0m\n\u001b[0;32m      1\u001b[0m \u001b[1;32mfrom\u001b[0m \u001b[0msklearn\u001b[0m\u001b[1;33m.\u001b[0m\u001b[0mmodel_selection\u001b[0m \u001b[1;32mimport\u001b[0m \u001b[0mGridSearchCV\u001b[0m\u001b[1;33m\u001b[0m\u001b[1;33m\u001b[0m\u001b[0m\n\u001b[1;32m----> 2\u001b[1;33m \u001b[1;32mfrom\u001b[0m \u001b[0msklearn\u001b[0m\u001b[1;33m.\u001b[0m\u001b[0mgrid_search\u001b[0m \u001b[1;32mimport\u001b[0m \u001b[0mGridSearchCV\u001b[0m\u001b[1;33m\u001b[0m\u001b[1;33m\u001b[0m\u001b[0m\n\u001b[0m\u001b[0;32m      3\u001b[0m \u001b[1;33m\u001b[0m\u001b[0m\n\u001b[0;32m      4\u001b[0m \u001b[1;33m\u001b[0m\u001b[0m\n\u001b[0;32m      5\u001b[0m \u001b[1;32mfrom\u001b[0m \u001b[0msklearn\u001b[0m\u001b[1;33m.\u001b[0m\u001b[0mlinear_model\u001b[0m \u001b[1;32mimport\u001b[0m \u001b[0mRidge\u001b[0m\u001b[1;33m\u001b[0m\u001b[1;33m\u001b[0m\u001b[0m\n",
      "\u001b[1;31mModuleNotFoundError\u001b[0m: No module named 'sklearn.grid_search'"
     ]
    }
   ],
   "source": [
    "from sklearn.model_selection import GridSearchCV\n",
    "from sklearn.grid_search import GridSearchCV\n",
    "\n",
    "\n",
    "from sklearn.linear_model import Ridge\n",
    "\n",
    "alpha = [1e-15, 1e-10, 1e-8, 1e-4, 1e-3,1e-2, 1, 5, 10, 20,30]\n",
    "\n",
    "ridge = Ridge()\n",
    "\n",
    "parameters = {'alpha': alpha}\n",
    "\n",
    "ridge_regressor = GridSearchCV(ridge, parameters)\n",
    "\n",
    "ridge_regressor.fit(X_train, y_train)"
   ]
  },
  {
   "cell_type": "code",
   "execution_count": null,
   "metadata": {},
   "outputs": [],
   "source": [
    "# ridge_regressor.best_params_"
   ]
  },
  {
   "cell_type": "code",
   "execution_count": null,
   "metadata": {},
   "outputs": [],
   "source": [
    "#X_train=[2]"
   ]
  },
  {
   "cell_type": "code",
   "execution_count": null,
   "metadata": {},
   "outputs": [],
   "source": [
    "# ridge=Ridge(alpha=30)\n",
    "# ridge.fit(X_train,y_train)\n",
    "# y_pred_ridge=ridge.predict(X_test)"
   ]
  },
  {
   "cell_type": "code",
   "execution_count": null,
   "metadata": {},
   "outputs": [],
   "source": [
    "# from sklearn.metrics import mean_squared_error\n",
    "# Ridge_Error=mean_squared_error(y_pred_ridge,y_test)\n",
    "# Ridge_Error"
   ]
  },
  {
   "cell_type": "code",
   "execution_count": null,
   "metadata": {},
   "outputs": [],
   "source": [
    "# from sklearn.metrics import r2_score\n",
    "# r2_score(y_test,y_pred_ridge)\n"
   ]
  },
  {
   "cell_type": "code",
   "execution_count": null,
   "metadata": {},
   "outputs": [],
   "source": [
    "# from sklearn.metrics import mean_absolute_percentage_error as mape\n",
    "\n",
    "# mape_value = mape(y_test,y_pred_ridge)\n",
    "# mape_value"
   ]
  },
  {
   "cell_type": "code",
   "execution_count": null,
   "metadata": {},
   "outputs": [],
   "source": [
    "# Results= a.DataFrame(columns=['Actual','Predicted_ridge'])\n",
    "# Results['Actual']=y_test\n",
    "# Results['Predicted_ridge']=y_pred_ridge\n",
    "# #Results['km']=X_test['km']\n",
    "# Results=Results.reset_index()\n",
    "# Results['Id']=Results.index\n",
    "# Results.head(10)"
   ]
  },
  {
   "cell_type": "code",
   "execution_count": null,
   "metadata": {},
   "outputs": [],
   "source": [
    "# sns.lineplot(x='Id',y='Actual',data=Results.head(50))\n",
    "# sns.lineplot(x='Id',y='Predicted_ridge',data=Results.head(50))\n",
    "# plt.plot()"
   ]
  },
  {
   "cell_type": "code",
   "execution_count": null,
   "metadata": {},
   "outputs": [],
   "source": [
    "# sns.lineplot(x='Id',y='Actual',data=Results.tail(50))\n",
    "# sns.lineplot(x='Id',y='Predicted_ridge',data=Results.tail(50))\n",
    "# plt.plot()"
   ]
  },
  {
   "cell_type": "code",
   "execution_count": null,
   "metadata": {},
   "outputs": [],
   "source": [
    "#elastic"
   ]
  },
  {
   "cell_type": "code",
   "execution_count": null,
   "metadata": {},
   "outputs": [],
   "source": [
    "# from sklearn.linear_model import ElasticNet\n",
    "\n",
    "# elastic = ElasticNet()\n",
    "\n",
    "# parameters = {'alpha': [1e-15, 1e-10, 1e-8, 1e-4, 1e-3,1e-2, 1, 5, 10, 20]}\n",
    "\n",
    "# elastic_regressor = GridSearchCV(elastic, parameters)\n",
    "\n",
    "# elastic_regressor.fit(X_train, y_train)"
   ]
  },
  {
   "cell_type": "code",
   "execution_count": null,
   "metadata": {},
   "outputs": [],
   "source": [
    "elastic_regressor.best_params_"
   ]
  },
  {
   "cell_type": "code",
   "execution_count": null,
   "metadata": {},
   "outputs": [],
   "source": [
    "# elastic=ElasticNet(alpha=1)\n",
    "# elastic.fit(X_train,y_train)\n",
    "# y_pred_elastic=elastic.predict(X_test)"
   ]
  },
  {
   "cell_type": "code",
   "execution_count": null,
   "metadata": {},
   "outputs": [],
   "source": [
    "# from sklearn.metrics import r2_score\n",
    "# r2_score(y_test,y_pred_elastic)"
   ]
  },
  {
   "cell_type": "code",
   "execution_count": null,
   "metadata": {},
   "outputs": [],
   "source": [
    "# mape_value = mape(y_test,y_pred_elastic)\n",
    "# mape_value"
   ]
  },
  {
   "cell_type": "code",
   "execution_count": null,
   "metadata": {},
   "outputs": [],
   "source": [
    "# elastic_Error=mean_squared_error(y_pred_elastic,y_test)\n",
    "# elastic_Error"
   ]
  },
  {
   "cell_type": "code",
   "execution_count": null,
   "metadata": {},
   "outputs": [],
   "source": [
    "# Results= a.DataFrame(columns=['Actual','Predicted'])\n",
    "# Results['Actual']=y_test\n",
    "# Results['Predicted']=y_pred_elastic\n",
    "# #Results['km']=X_test['km']\n",
    "# Results=Results.reset_index()\n",
    "# Results['Id']=Results.index\n",
    "# Results.head(10)"
   ]
  },
  {
   "cell_type": "code",
   "execution_count": null,
   "metadata": {},
   "outputs": [],
   "source": [
    "# sns.lineplot(x='Id',y='Actual',data=Results.head(50))\n",
    "# sns.lineplot(x='Id',y='Predicted',data=Results.head(50))\n",
    "# plt.plot()"
   ]
  },
  {
   "cell_type": "code",
   "execution_count": null,
   "metadata": {},
   "outputs": [],
   "source": [
    "#RandomForest\n",
    "# X_train.shape"
   ]
  },
  {
   "cell_type": "code",
   "execution_count": null,
   "metadata": {},
   "outputs": [],
   "source": [
    "# from sklearn.model_selection import GridSearchCV #GridSearchCV is for parameter tuning\n",
    "# from sklearn.ensemble import RandomForestRegressor\n",
    "# reg=RandomForestRegressor()\n",
    "# n_estimators=[25,50,75,100,125,150,175,200] #number of decision trees in the forest, default = 100\n",
    "# criterion=['mse'] #criteria for choosing nodes default = 'gini'\n",
    "# max_depth=[3,5,10] #maximum number of nodes in a tree default = None (it will go till all possible nodes)\n",
    "# parameters={'n_estimators': n_estimators,'criterion':criterion,'max_depth':max_depth}  \n",
    "# RFC_reg = GridSearchCV(reg, parameters)\n",
    "# RFC_reg.fit(X_train,y_train)"
   ]
  },
  {
   "cell_type": "code",
   "execution_count": null,
   "metadata": {},
   "outputs": [],
   "source": [
    "# RFC_reg.best_params_"
   ]
  },
  {
   "cell_type": "code",
   "execution_count": null,
   "metadata": {},
   "outputs": [],
   "source": [
    "# reg=RandomForestRegressor(n_estimators=50,criterion='mse',max_depth=5)"
   ]
  },
  {
   "cell_type": "code",
   "execution_count": null,
   "metadata": {},
   "outputs": [],
   "source": [
    "# reg.fit(X_train,y_train)"
   ]
  },
  {
   "cell_type": "code",
   "execution_count": null,
   "metadata": {},
   "outputs": [],
   "source": [
    "# y_pred=reg.predict(X_test)"
   ]
  },
  {
   "cell_type": "code",
   "execution_count": null,
   "metadata": {},
   "outputs": [],
   "source": [
    "# y_pred"
   ]
  },
  {
   "cell_type": "code",
   "execution_count": null,
   "metadata": {},
   "outputs": [],
   "source": [
    "# from sklearn.metrics import r2_score\n",
    "# r2_score(y_test,y_pred)"
   ]
  },
  {
   "cell_type": "code",
   "execution_count": null,
   "metadata": {},
   "outputs": [],
   "source": [
    "# mape_value = mape(y_test,y_pred)\n",
    "# mape_value"
   ]
  },
  {
   "cell_type": "code",
   "execution_count": null,
   "metadata": {},
   "outputs": [],
   "source": [
    "# Results= a.DataFrame(columns=['Actual','Predicted'])\n",
    "# Results['Actual']=y_test\n",
    "# Results['Predicted']=y_pred\n",
    "# #Results['km']=X_test['km']\n",
    "# Results=Results.reset_index()\n",
    "# Results['Id']=Results.index\n",
    "# Results.head(10)"
   ]
  },
  {
   "cell_type": "code",
   "execution_count": null,
   "metadata": {},
   "outputs": [],
   "source": [
    "# sns.lineplot(x='Id',y='Actual',data=Results.head(100))\n",
    "# sns.lineplot(x='Id',y='Predicted',data=Results.head(100))\n",
    "# plt.plot()"
   ]
  },
  {
   "cell_type": "code",
   "execution_count": null,
   "metadata": {},
   "outputs": [],
   "source": []
  },
  {
   "cell_type": "code",
   "execution_count": null,
   "metadata": {},
   "outputs": [],
   "source": []
  },
  {
   "cell_type": "code",
   "execution_count": null,
   "metadata": {},
   "outputs": [],
   "source": []
  },
  {
   "cell_type": "code",
   "execution_count": null,
   "metadata": {},
   "outputs": [],
   "source": []
  }
 ],
 "metadata": {
  "kernelspec": {
   "display_name": "Python 3",
   "language": "python",
   "name": "python3"
  },
  "language_info": {
   "codemirror_mode": {
    "name": "ipython",
    "version": 3
   },
   "file_extension": ".py",
   "mimetype": "text/x-python",
   "name": "python",
   "nbconvert_exporter": "python",
   "pygments_lexer": "ipython3",
   "version": "3.8.5"
  }
 },
 "nbformat": 4,
 "nbformat_minor": 4
}
